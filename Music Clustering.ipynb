{
 "cells": [
  {
   "cell_type": "code",
   "execution_count": 1,
   "metadata": {
    "collapsed": true
   },
   "outputs": [],
   "source": [
    "import pandas"
   ]
  },
  {
   "cell_type": "code",
   "execution_count": 2,
   "metadata": {
    "collapsed": true
   },
   "outputs": [],
   "source": [
    "music_df = pandas.read_csv(\"music_data.csv\")"
   ]
  },
  {
   "cell_type": "code",
   "execution_count": 3,
   "metadata": {
    "collapsed": false
   },
   "outputs": [
    {
     "data": {
      "text/html": [
       "<div>\n",
       "<style scoped>\n",
       "    .dataframe tbody tr th:only-of-type {\n",
       "        vertical-align: middle;\n",
       "    }\n",
       "\n",
       "    .dataframe tbody tr th {\n",
       "        vertical-align: top;\n",
       "    }\n",
       "\n",
       "    .dataframe thead th {\n",
       "        text-align: right;\n",
       "    }\n",
       "</style>\n",
       "<table border=\"1\" class=\"dataframe\">\n",
       "  <thead>\n",
       "    <tr style=\"text-align: right;\">\n",
       "      <th></th>\n",
       "      <th>energy</th>\n",
       "      <th>liveness</th>\n",
       "      <th>tempo</th>\n",
       "      <th>speechiness</th>\n",
       "      <th>acousticness</th>\n",
       "      <th>instrumentalness</th>\n",
       "      <th>time_signature</th>\n",
       "      <th>danceability</th>\n",
       "      <th>key</th>\n",
       "      <th>duration_ms</th>\n",
       "      <th>loudness</th>\n",
       "      <th>valence</th>\n",
       "      <th>mode</th>\n",
       "      <th>type</th>\n",
       "      <th>uri</th>\n",
       "      <th>name</th>\n",
       "    </tr>\n",
       "  </thead>\n",
       "  <tbody>\n",
       "    <tr>\n",
       "      <th>0</th>\n",
       "      <td>0.923</td>\n",
       "      <td>0.0561</td>\n",
       "      <td>136.010</td>\n",
       "      <td>0.0440</td>\n",
       "      <td>0.00980</td>\n",
       "      <td>0.000000</td>\n",
       "      <td>4</td>\n",
       "      <td>0.602</td>\n",
       "      <td>5</td>\n",
       "      <td>216013</td>\n",
       "      <td>-3.763</td>\n",
       "      <td>0.765</td>\n",
       "      <td>1</td>\n",
       "      <td>audio_features</td>\n",
       "      <td>spotify:track:1yjY7rpaAQvKwpdUliHx0d</td>\n",
       "      <td>Still Into You</td>\n",
       "    </tr>\n",
       "    <tr>\n",
       "      <th>1</th>\n",
       "      <td>0.651</td>\n",
       "      <td>0.1110</td>\n",
       "      <td>90.011</td>\n",
       "      <td>0.0306</td>\n",
       "      <td>0.02910</td>\n",
       "      <td>0.000003</td>\n",
       "      <td>4</td>\n",
       "      <td>0.589</td>\n",
       "      <td>6</td>\n",
       "      <td>212627</td>\n",
       "      <td>-5.097</td>\n",
       "      <td>0.166</td>\n",
       "      <td>1</td>\n",
       "      <td>audio_features</td>\n",
       "      <td>spotify:track:1brwdYwjltrJo7WHpIvbYt</td>\n",
       "      <td>Faded</td>\n",
       "    </tr>\n",
       "    <tr>\n",
       "      <th>2</th>\n",
       "      <td>0.738</td>\n",
       "      <td>0.6890</td>\n",
       "      <td>97.021</td>\n",
       "      <td>0.0292</td>\n",
       "      <td>0.11700</td>\n",
       "      <td>0.000384</td>\n",
       "      <td>4</td>\n",
       "      <td>0.638</td>\n",
       "      <td>6</td>\n",
       "      <td>243147</td>\n",
       "      <td>-4.976</td>\n",
       "      <td>0.657</td>\n",
       "      <td>0</td>\n",
       "      <td>audio_features</td>\n",
       "      <td>spotify:track:4BdGO1CaObRD4La9l5Zanz</td>\n",
       "      <td>Sit Next to Me</td>\n",
       "    </tr>\n",
       "    <tr>\n",
       "      <th>3</th>\n",
       "      <td>0.950</td>\n",
       "      <td>0.7090</td>\n",
       "      <td>96.082</td>\n",
       "      <td>0.0625</td>\n",
       "      <td>0.00996</td>\n",
       "      <td>0.000096</td>\n",
       "      <td>4</td>\n",
       "      <td>0.574</td>\n",
       "      <td>0</td>\n",
       "      <td>178840</td>\n",
       "      <td>-6.297</td>\n",
       "      <td>0.289</td>\n",
       "      <td>1</td>\n",
       "      <td>audio_features</td>\n",
       "      <td>spotify:track:7DFk01bs34zPldpuAQsfwY</td>\n",
       "      <td>Kill Your Heroes</td>\n",
       "    </tr>\n",
       "    <tr>\n",
       "      <th>4</th>\n",
       "      <td>0.616</td>\n",
       "      <td>0.0928</td>\n",
       "      <td>101.883</td>\n",
       "      <td>0.0328</td>\n",
       "      <td>0.18600</td>\n",
       "      <td>0.000000</td>\n",
       "      <td>4</td>\n",
       "      <td>0.532</td>\n",
       "      <td>10</td>\n",
       "      <td>223147</td>\n",
       "      <td>-7.074</td>\n",
       "      <td>0.292</td>\n",
       "      <td>0</td>\n",
       "      <td>audio_features</td>\n",
       "      <td>spotify:track:3pWcj8hxj3fsb9TDAcMpEl</td>\n",
       "      <td>Somebody</td>\n",
       "    </tr>\n",
       "  </tbody>\n",
       "</table>\n",
       "</div>"
      ],
      "text/plain": [
       "   energy  liveness    tempo  speechiness  acousticness  instrumentalness  \\\n",
       "0   0.923    0.0561  136.010       0.0440       0.00980          0.000000   \n",
       "1   0.651    0.1110   90.011       0.0306       0.02910          0.000003   \n",
       "2   0.738    0.6890   97.021       0.0292       0.11700          0.000384   \n",
       "3   0.950    0.7090   96.082       0.0625       0.00996          0.000096   \n",
       "4   0.616    0.0928  101.883       0.0328       0.18600          0.000000   \n",
       "\n",
       "   time_signature  danceability  key  duration_ms  loudness  valence  mode  \\\n",
       "0               4         0.602    5       216013    -3.763    0.765     1   \n",
       "1               4         0.589    6       212627    -5.097    0.166     1   \n",
       "2               4         0.638    6       243147    -4.976    0.657     0   \n",
       "3               4         0.574    0       178840    -6.297    0.289     1   \n",
       "4               4         0.532   10       223147    -7.074    0.292     0   \n",
       "\n",
       "             type                                   uri              name  \n",
       "0  audio_features  spotify:track:1yjY7rpaAQvKwpdUliHx0d    Still Into You  \n",
       "1  audio_features  spotify:track:1brwdYwjltrJo7WHpIvbYt             Faded  \n",
       "2  audio_features  spotify:track:4BdGO1CaObRD4La9l5Zanz    Sit Next to Me  \n",
       "3  audio_features  spotify:track:7DFk01bs34zPldpuAQsfwY  Kill Your Heroes  \n",
       "4  audio_features  spotify:track:3pWcj8hxj3fsb9TDAcMpEl          Somebody  "
      ]
     },
     "execution_count": 3,
     "metadata": {},
     "output_type": "execute_result"
    }
   ],
   "source": [
    "music_df.head()"
   ]
  },
  {
   "cell_type": "code",
   "execution_count": 4,
   "metadata": {
    "collapsed": true
   },
   "outputs": [],
   "source": [
    "from sklearn import cluster\n",
    "import networkx as nx\n",
    "from collections import defaultdict\n",
    "import matplotlib.pyplot as plt\n",
    "from matplotlib import cm\n",
    "import seaborn as sns\n",
    "import pandas as pd\n",
    "import numpy as np\n",
    "from sklearn.metrics.cluster import normalized_mutual_info_score\n",
    "from sklearn.metrics.cluster import adjusted_rand_score"
   ]
  },
  {
   "cell_type": "code",
   "execution_count": 5,
   "metadata": {
    "collapsed": false
   },
   "outputs": [
    {
     "data": {
      "text/plain": [
       "(99, 16)"
      ]
     },
     "execution_count": 5,
     "metadata": {},
     "output_type": "execute_result"
    }
   ],
   "source": [
    "music_df.shape"
   ]
  },
  {
   "cell_type": "code",
   "execution_count": 147,
   "metadata": {
    "collapsed": true
   },
   "outputs": [],
   "source": [
    "%matplotlib inline"
   ]
  },
  {
   "cell_type": "code",
   "execution_count": 6,
   "metadata": {
    "collapsed": false
   },
   "outputs": [
    {
     "data": {
      "text/plain": [
       "<matplotlib.axes._subplots.AxesSubplot at 0x1173abba8>"
      ]
     },
     "execution_count": 6,
     "metadata": {},
     "output_type": "execute_result"
    },
    {
     "data": {
      "image/png": "[encoded data removed]",
      "text/plain": [
       "<Figure size 432x288 with 2 Axes>"
      ]
     },
     "metadata": {},
     "output_type": "display_data"
    }
   ],
   "source": [
    "sns.heatmap(music_df.corr())"
   ]
  },
  {
   "cell_type": "code",
   "execution_count": 7,
   "metadata": {
    "collapsed": false
   },
   "outputs": [],
   "source": [
    "music_df.drop(['energy','loudness'], axis=1, inplace=True)"
   ]
  },
  {
   "cell_type": "code",
   "execution_count": 8,
   "metadata": {
    "collapsed": false
   },
   "outputs": [
    {
     "data": {
      "text/html": [
       "<div>\n",
       "<style scoped>\n",
       "    .dataframe tbody tr th:only-of-type {\n",
       "        vertical-align: middle;\n",
       "    }\n",
       "\n",
       "    .dataframe tbody tr th {\n",
       "        vertical-align: top;\n",
       "    }\n",
       "\n",
       "    .dataframe thead th {\n",
       "        text-align: right;\n",
       "    }\n",
       "</style>\n",
       "<table border=\"1\" class=\"dataframe\">\n",
       "  <thead>\n",
       "    <tr style=\"text-align: right;\">\n",
       "      <th></th>\n",
       "      <th>liveness</th>\n",
       "      <th>tempo</th>\n",
       "      <th>speechiness</th>\n",
       "      <th>acousticness</th>\n",
       "      <th>instrumentalness</th>\n",
       "      <th>time_signature</th>\n",
       "      <th>danceability</th>\n",
       "      <th>key</th>\n",
       "      <th>duration_ms</th>\n",
       "      <th>valence</th>\n",
       "      <th>mode</th>\n",
       "      <th>type</th>\n",
       "      <th>uri</th>\n",
       "      <th>name</th>\n",
       "    </tr>\n",
       "  </thead>\n",
       "  <tbody>\n",
       "    <tr>\n",
       "      <th>0</th>\n",
       "      <td>0.0561</td>\n",
       "      <td>136.010</td>\n",
       "      <td>0.0440</td>\n",
       "      <td>0.00980</td>\n",
       "      <td>0.000000</td>\n",
       "      <td>4</td>\n",
       "      <td>0.602</td>\n",
       "      <td>5</td>\n",
       "      <td>216013</td>\n",
       "      <td>0.765</td>\n",
       "      <td>1</td>\n",
       "      <td>audio_features</td>\n",
       "      <td>spotify:track:1yjY7rpaAQvKwpdUliHx0d</td>\n",
       "      <td>Still Into You</td>\n",
       "    </tr>\n",
       "    <tr>\n",
       "      <th>1</th>\n",
       "      <td>0.1110</td>\n",
       "      <td>90.011</td>\n",
       "      <td>0.0306</td>\n",
       "      <td>0.02910</td>\n",
       "      <td>0.000003</td>\n",
       "      <td>4</td>\n",
       "      <td>0.589</td>\n",
       "      <td>6</td>\n",
       "      <td>212627</td>\n",
       "      <td>0.166</td>\n",
       "      <td>1</td>\n",
       "      <td>audio_features</td>\n",
       "      <td>spotify:track:1brwdYwjltrJo7WHpIvbYt</td>\n",
       "      <td>Faded</td>\n",
       "    </tr>\n",
       "    <tr>\n",
       "      <th>2</th>\n",
       "      <td>0.6890</td>\n",
       "      <td>97.021</td>\n",
       "      <td>0.0292</td>\n",
       "      <td>0.11700</td>\n",
       "      <td>0.000384</td>\n",
       "      <td>4</td>\n",
       "      <td>0.638</td>\n",
       "      <td>6</td>\n",
       "      <td>243147</td>\n",
       "      <td>0.657</td>\n",
       "      <td>0</td>\n",
       "      <td>audio_features</td>\n",
       "      <td>spotify:track:4BdGO1CaObRD4La9l5Zanz</td>\n",
       "      <td>Sit Next to Me</td>\n",
       "    </tr>\n",
       "    <tr>\n",
       "      <th>3</th>\n",
       "      <td>0.7090</td>\n",
       "      <td>96.082</td>\n",
       "      <td>0.0625</td>\n",
       "      <td>0.00996</td>\n",
       "      <td>0.000096</td>\n",
       "      <td>4</td>\n",
       "      <td>0.574</td>\n",
       "      <td>0</td>\n",
       "      <td>178840</td>\n",
       "      <td>0.289</td>\n",
       "      <td>1</td>\n",
       "      <td>audio_features</td>\n",
       "      <td>spotify:track:7DFk01bs34zPldpuAQsfwY</td>\n",
       "      <td>Kill Your Heroes</td>\n",
       "    </tr>\n",
       "    <tr>\n",
       "      <th>4</th>\n",
       "      <td>0.0928</td>\n",
       "      <td>101.883</td>\n",
       "      <td>0.0328</td>\n",
       "      <td>0.18600</td>\n",
       "      <td>0.000000</td>\n",
       "      <td>4</td>\n",
       "      <td>0.532</td>\n",
       "      <td>10</td>\n",
       "      <td>223147</td>\n",
       "      <td>0.292</td>\n",
       "      <td>0</td>\n",
       "      <td>audio_features</td>\n",
       "      <td>spotify:track:3pWcj8hxj3fsb9TDAcMpEl</td>\n",
       "      <td>Somebody</td>\n",
       "    </tr>\n",
       "  </tbody>\n",
       "</table>\n",
       "</div>"
      ],
      "text/plain": [
       "   liveness    tempo  speechiness  acousticness  instrumentalness  \\\n",
       "0    0.0561  136.010       0.0440       0.00980          0.000000   \n",
       "1    0.1110   90.011       0.0306       0.02910          0.000003   \n",
       "2    0.6890   97.021       0.0292       0.11700          0.000384   \n",
       "3    0.7090   96.082       0.0625       0.00996          0.000096   \n",
       "4    0.0928  101.883       0.0328       0.18600          0.000000   \n",
       "\n",
       "   time_signature  danceability  key  duration_ms  valence  mode  \\\n",
       "0               4         0.602    5       216013    0.765     1   \n",
       "1               4         0.589    6       212627    0.166     1   \n",
       "2               4         0.638    6       243147    0.657     0   \n",
       "3               4         0.574    0       178840    0.289     1   \n",
       "4               4         0.532   10       223147    0.292     0   \n",
       "\n",
       "             type                                   uri              name  \n",
       "0  audio_features  spotify:track:1yjY7rpaAQvKwpdUliHx0d    Still Into You  \n",
       "1  audio_features  spotify:track:1brwdYwjltrJo7WHpIvbYt             Faded  \n",
       "2  audio_features  spotify:track:4BdGO1CaObRD4La9l5Zanz    Sit Next to Me  \n",
       "3  audio_features  spotify:track:7DFk01bs34zPldpuAQsfwY  Kill Your Heroes  \n",
       "4  audio_features  spotify:track:3pWcj8hxj3fsb9TDAcMpEl          Somebody  "
      ]
     },
     "execution_count": 8,
     "metadata": {},
     "output_type": "execute_result"
    }
   ],
   "source": [
    "music_df.head()"
   ]
  },
  {
   "cell_type": "code",
   "execution_count": 9,
   "metadata": {
    "collapsed": true
   },
   "outputs": [],
   "source": [
    "name = music_df['name']"
   ]
  },
  {
   "cell_type": "code",
   "execution_count": 10,
   "metadata": {
    "collapsed": false
   },
   "outputs": [
    {
     "data": {
      "text/plain": [
       "pandas.core.series.Series"
      ]
     },
     "execution_count": 10,
     "metadata": {},
     "output_type": "execute_result"
    }
   ],
   "source": [
    "type(name)"
   ]
  },
  {
   "cell_type": "code",
   "execution_count": 11,
   "metadata": {
    "collapsed": false
   },
   "outputs": [
    {
     "data": {
      "text/html": [
       "<div>\n",
       "<style scoped>\n",
       "    .dataframe tbody tr th:only-of-type {\n",
       "        vertical-align: middle;\n",
       "    }\n",
       "\n",
       "    .dataframe tbody tr th {\n",
       "        vertical-align: top;\n",
       "    }\n",
       "\n",
       "    .dataframe thead th {\n",
       "        text-align: right;\n",
       "    }\n",
       "</style>\n",
       "<table border=\"1\" class=\"dataframe\">\n",
       "  <thead>\n",
       "    <tr style=\"text-align: right;\">\n",
       "      <th></th>\n",
       "      <th>liveness</th>\n",
       "      <th>tempo</th>\n",
       "      <th>speechiness</th>\n",
       "      <th>acousticness</th>\n",
       "      <th>instrumentalness</th>\n",
       "      <th>time_signature</th>\n",
       "      <th>danceability</th>\n",
       "      <th>key</th>\n",
       "      <th>duration_ms</th>\n",
       "      <th>valence</th>\n",
       "      <th>mode</th>\n",
       "    </tr>\n",
       "  </thead>\n",
       "  <tbody>\n",
       "    <tr>\n",
       "      <th>0</th>\n",
       "      <td>0.0561</td>\n",
       "      <td>136.010</td>\n",
       "      <td>0.0440</td>\n",
       "      <td>0.00980</td>\n",
       "      <td>0.000000</td>\n",
       "      <td>4</td>\n",
       "      <td>0.602</td>\n",
       "      <td>5</td>\n",
       "      <td>216013</td>\n",
       "      <td>0.765</td>\n",
       "      <td>1</td>\n",
       "    </tr>\n",
       "    <tr>\n",
       "      <th>1</th>\n",
       "      <td>0.1110</td>\n",
       "      <td>90.011</td>\n",
       "      <td>0.0306</td>\n",
       "      <td>0.02910</td>\n",
       "      <td>0.000003</td>\n",
       "      <td>4</td>\n",
       "      <td>0.589</td>\n",
       "      <td>6</td>\n",
       "      <td>212627</td>\n",
       "      <td>0.166</td>\n",
       "      <td>1</td>\n",
       "    </tr>\n",
       "    <tr>\n",
       "      <th>2</th>\n",
       "      <td>0.6890</td>\n",
       "      <td>97.021</td>\n",
       "      <td>0.0292</td>\n",
       "      <td>0.11700</td>\n",
       "      <td>0.000384</td>\n",
       "      <td>4</td>\n",
       "      <td>0.638</td>\n",
       "      <td>6</td>\n",
       "      <td>243147</td>\n",
       "      <td>0.657</td>\n",
       "      <td>0</td>\n",
       "    </tr>\n",
       "    <tr>\n",
       "      <th>3</th>\n",
       "      <td>0.7090</td>\n",
       "      <td>96.082</td>\n",
       "      <td>0.0625</td>\n",
       "      <td>0.00996</td>\n",
       "      <td>0.000096</td>\n",
       "      <td>4</td>\n",
       "      <td>0.574</td>\n",
       "      <td>0</td>\n",
       "      <td>178840</td>\n",
       "      <td>0.289</td>\n",
       "      <td>1</td>\n",
       "    </tr>\n",
       "    <tr>\n",
       "      <th>4</th>\n",
       "      <td>0.0928</td>\n",
       "      <td>101.883</td>\n",
       "      <td>0.0328</td>\n",
       "      <td>0.18600</td>\n",
       "      <td>0.000000</td>\n",
       "      <td>4</td>\n",
       "      <td>0.532</td>\n",
       "      <td>10</td>\n",
       "      <td>223147</td>\n",
       "      <td>0.292</td>\n",
       "      <td>0</td>\n",
       "    </tr>\n",
       "  </tbody>\n",
       "</table>\n",
       "</div>"
      ],
      "text/plain": [
       "   liveness    tempo  speechiness  acousticness  instrumentalness  \\\n",
       "0    0.0561  136.010       0.0440       0.00980          0.000000   \n",
       "1    0.1110   90.011       0.0306       0.02910          0.000003   \n",
       "2    0.6890   97.021       0.0292       0.11700          0.000384   \n",
       "3    0.7090   96.082       0.0625       0.00996          0.000096   \n",
       "4    0.0928  101.883       0.0328       0.18600          0.000000   \n",
       "\n",
       "   time_signature  danceability  key  duration_ms  valence  mode  \n",
       "0               4         0.602    5       216013    0.765     1  \n",
       "1               4         0.589    6       212627    0.166     1  \n",
       "2               4         0.638    6       243147    0.657     0  \n",
       "3               4         0.574    0       178840    0.289     1  \n",
       "4               4         0.532   10       223147    0.292     0  "
      ]
     },
     "execution_count": 11,
     "metadata": {},
     "output_type": "execute_result"
    }
   ],
   "source": [
    "music_df.drop(['type', 'uri', 'name'], axis=1, inplace=True)\n",
    "music_df.head()"
   ]
  },
  {
   "cell_type": "code",
   "execution_count": 12,
   "metadata": {
    "collapsed": true
   },
   "outputs": [],
   "source": [
    "#normalize the data\n",
    "from sklearn import preprocessing\n",
    "x = music_df.values \n",
    "min_max_scaler = preprocessing.MinMaxScaler()\n",
    "x_scaled = min_max_scaler.fit_transform(x)\n",
    "df=pandas.DataFrame(x_scaled, columns=music_df.columns)"
   ]
  },
  {
   "cell_type": "code",
   "execution_count": 13,
   "metadata": {
    "collapsed": true
   },
   "outputs": [],
   "source": [
    "from sklearn.decomposition import PCA\n",
    "pca = PCA(n_components=2)\n",
    "principalComponents = pca.fit_transform(x_scaled)\n",
    "principalDf = pd.DataFrame(data = principalComponents\n",
    "             , columns = ['principal component 1', 'principal component 2'])"
   ]
  },
  {
   "cell_type": "code",
   "execution_count": 14,
   "metadata": {
    "collapsed": false
   },
   "outputs": [],
   "source": [
    "#normalize the data again\n",
    "x = principalDf.values \n",
    "min_max_scaler = preprocessing.MinMaxScaler()\n",
    "x_scaled = min_max_scaler.fit_transform(x)\n",
    "df=pandas.DataFrame(x_scaled, columns=principalDf.columns)"
   ]
  },
  {
   "cell_type": "code",
   "execution_count": 15,
   "metadata": {
    "collapsed": false
   },
   "outputs": [
    {
     "data": {
      "text/html": [
       "<div>\n",
       "<style scoped>\n",
       "    .dataframe tbody tr th:only-of-type {\n",
       "        vertical-align: middle;\n",
       "    }\n",
       "\n",
       "    .dataframe tbody tr th {\n",
       "        vertical-align: top;\n",
       "    }\n",
       "\n",
       "    .dataframe thead th {\n",
       "        text-align: right;\n",
       "    }\n",
       "</style>\n",
       "<table border=\"1\" class=\"dataframe\">\n",
       "  <thead>\n",
       "    <tr style=\"text-align: right;\">\n",
       "      <th></th>\n",
       "      <th>principal component 1</th>\n",
       "      <th>principal component 2</th>\n",
       "    </tr>\n",
       "  </thead>\n",
       "  <tbody>\n",
       "    <tr>\n",
       "      <th>0</th>\n",
       "      <td>0.262057</td>\n",
       "      <td>0.213815</td>\n",
       "    </tr>\n",
       "    <tr>\n",
       "      <th>1</th>\n",
       "      <td>0.251278</td>\n",
       "      <td>0.414743</td>\n",
       "    </tr>\n",
       "    <tr>\n",
       "      <th>2</th>\n",
       "      <td>0.731890</td>\n",
       "      <td>0.088016</td>\n",
       "    </tr>\n",
       "    <tr>\n",
       "      <th>3</th>\n",
       "      <td>0.035222</td>\n",
       "      <td>0.177863</td>\n",
       "    </tr>\n",
       "    <tr>\n",
       "      <th>4</th>\n",
       "      <td>0.863351</td>\n",
       "      <td>0.341728</td>\n",
       "    </tr>\n",
       "  </tbody>\n",
       "</table>\n",
       "</div>"
      ],
      "text/plain": [
       "   principal component 1  principal component 2\n",
       "0               0.262057               0.213815\n",
       "1               0.251278               0.414743\n",
       "2               0.731890               0.088016\n",
       "3               0.035222               0.177863\n",
       "4               0.863351               0.341728"
      ]
     },
     "execution_count": 15,
     "metadata": {},
     "output_type": "execute_result"
    }
   ],
   "source": [
    "df.head()"
   ]
  },
  {
   "cell_type": "code",
   "execution_count": 16,
   "metadata": {
    "collapsed": false
   },
   "outputs": [
    {
     "data": {
      "image/png": "[encoded data removed]",
      "text/plain": [
       "<Figure size 576x576 with 1 Axes>"
      ]
     },
     "metadata": {},
     "output_type": "display_data"
    }
   ],
   "source": [
    "fig = plt.figure(figsize = (8,8))\n",
    "ax = fig.add_subplot(1,1,1) \n",
    "ax.set_xlabel('Principal Component 1', fontsize = 15)\n",
    "ax.set_ylabel('Principal Component 2', fontsize = 15)\n",
    "ax.set_title('2 component PCA', fontsize = 20)\n",
    "\n",
    "ax.scatter(df['principal component 1'], df['principal component 2'])\n",
    "ax.grid()"
   ]
  },
  {
   "cell_type": "code",
   "execution_count": 17,
   "metadata": {
    "collapsed": false
   },
   "outputs": [
    {
     "name": "stderr",
     "output_type": "stream",
     "text": [
      "/Users/kailee/anaconda/envs/py36/lib/python3.6/site-packages/ipykernel/__main__.py:1: FutureWarning: Method .as_matrix will be removed in a future version. Use .values instead.\n",
      "  if __name__ == '__main__':\n"
     ]
    }
   ],
   "source": [
    "array = df.as_matrix(columns=None)"
   ]
  },
  {
   "cell_type": "code",
   "execution_count": 18,
   "metadata": {
    "collapsed": false
   },
   "outputs": [],
   "source": [
    "model = cluster.AffinityPropagation(damping = 0.5, max_iter = 250, affinity = 'euclidean')\n",
    "model.fit(array)\n",
    "clust_labels2 = model.predict(array)\n",
    "cent2 = model.cluster_centers_\n",
    "affinity = pd.DataFrame(clust_labels2)"
   ]
  },
  {
   "cell_type": "code",
   "execution_count": 19,
   "metadata": {
    "collapsed": false
   },
   "outputs": [
    {
     "data": {
      "text/plain": [
       "<matplotlib.colorbar.Colorbar at 0x1a23e91668>"
      ]
     },
     "execution_count": 19,
     "metadata": {},
     "output_type": "execute_result"
    },
    {
     "data": {
      "image/png": "[encoded data removed]",
      "text/plain": [
       "<Figure size 432x288 with 2 Axes>"
      ]
     },
     "metadata": {},
     "output_type": "display_data"
    }
   ],
   "source": [
    "fig = plt.figure()\n",
    "ax = fig.add_subplot(111)\n",
    "scatter = ax.scatter(df['principal component 1'], df['principal component 2'], c=affinity[0],s=50)\n",
    "ax.set_title('Affinity Clustering')\n",
    "ax.set_xlabel('principal component 1')\n",
    "ax.set_ylabel('principal component 2')\n",
    "plt.colorbar(scatter)"
   ]
  },
  {
   "cell_type": "code",
   "execution_count": 20,
   "metadata": {
    "collapsed": false
   },
   "outputs": [
    {
     "data": {
      "text/html": [
       "<div>\n",
       "<style scoped>\n",
       "    .dataframe tbody tr th:only-of-type {\n",
       "        vertical-align: middle;\n",
       "    }\n",
       "\n",
       "    .dataframe tbody tr th {\n",
       "        vertical-align: top;\n",
       "    }\n",
       "\n",
       "    .dataframe thead th {\n",
       "        text-align: right;\n",
       "    }\n",
       "</style>\n",
       "<table border=\"1\" class=\"dataframe\">\n",
       "  <thead>\n",
       "    <tr style=\"text-align: right;\">\n",
       "      <th></th>\n",
       "      <th>principal component 1</th>\n",
       "      <th>principal component 2</th>\n",
       "      <th>name</th>\n",
       "    </tr>\n",
       "  </thead>\n",
       "  <tbody>\n",
       "    <tr>\n",
       "      <th>0</th>\n",
       "      <td>0.262057</td>\n",
       "      <td>0.213815</td>\n",
       "      <td>Still Into You</td>\n",
       "    </tr>\n",
       "    <tr>\n",
       "      <th>1</th>\n",
       "      <td>0.251278</td>\n",
       "      <td>0.414743</td>\n",
       "      <td>Faded</td>\n",
       "    </tr>\n",
       "    <tr>\n",
       "      <th>2</th>\n",
       "      <td>0.731890</td>\n",
       "      <td>0.088016</td>\n",
       "      <td>Sit Next to Me</td>\n",
       "    </tr>\n",
       "    <tr>\n",
       "      <th>3</th>\n",
       "      <td>0.035222</td>\n",
       "      <td>0.177863</td>\n",
       "      <td>Kill Your Heroes</td>\n",
       "    </tr>\n",
       "    <tr>\n",
       "      <th>4</th>\n",
       "      <td>0.863351</td>\n",
       "      <td>0.341728</td>\n",
       "      <td>Somebody</td>\n",
       "    </tr>\n",
       "  </tbody>\n",
       "</table>\n",
       "</div>"
      ],
      "text/plain": [
       "   principal component 1  principal component 2              name\n",
       "0               0.262057               0.213815    Still Into You\n",
       "1               0.251278               0.414743             Faded\n",
       "2               0.731890               0.088016    Sit Next to Me\n",
       "3               0.035222               0.177863  Kill Your Heroes\n",
       "4               0.863351               0.341728          Somebody"
      ]
     },
     "execution_count": 20,
     "metadata": {},
     "output_type": "execute_result"
    }
   ],
   "source": [
    "df['name']=name\n",
    "df.head()"
   ]
  },
  {
   "cell_type": "code",
   "execution_count": 21,
   "metadata": {
    "collapsed": false
   },
   "outputs": [
    {
     "name": "stdout",
     "output_type": "stream",
     "text": [
      "[4 1 2 6 2 7 1 0 5 1 2 3 6 6 0 0 1 2 3 1 0 6 1 6 4 3 0 2 2 0 2 6 2 6 3 3 3\n",
      " 4 3 4 1 1 0 0 3 2 1 4 1 4 5 6 5 0 2 0 1 0 2 6 5 4 6 7 7 6 6 0 6 1 3 2 6 1\n",
      " 6 6 1 2 3 7 6 6 6 0 4 1 7 0 2 6 4 5 6 7 4 3 6 4 7]\n"
     ]
    }
   ],
   "source": [
    "print(clust_labels2)"
   ]
  },
  {
   "cell_type": "code",
   "execution_count": 22,
   "metadata": {
    "collapsed": true
   },
   "outputs": [],
   "source": [
    "df['cluster_label'] = clust_labels2"
   ]
  },
  {
   "cell_type": "code",
   "execution_count": 41,
   "metadata": {
    "collapsed": true
   },
   "outputs": [],
   "source": [
    "clusters = list(clust_labels2)"
   ]
  },
  {
   "cell_type": "code",
   "execution_count": 23,
   "metadata": {
    "collapsed": false
   },
   "outputs": [
    {
     "data": {
      "text/html": [
       "<div>\n",
       "<style scoped>\n",
       "    .dataframe tbody tr th:only-of-type {\n",
       "        vertical-align: middle;\n",
       "    }\n",
       "\n",
       "    .dataframe tbody tr th {\n",
       "        vertical-align: top;\n",
       "    }\n",
       "\n",
       "    .dataframe thead th {\n",
       "        text-align: right;\n",
       "    }\n",
       "</style>\n",
       "<table border=\"1\" class=\"dataframe\">\n",
       "  <thead>\n",
       "    <tr style=\"text-align: right;\">\n",
       "      <th></th>\n",
       "      <th>principal component 1</th>\n",
       "      <th>principal component 2</th>\n",
       "      <th>name</th>\n",
       "      <th>cluster_label</th>\n",
       "    </tr>\n",
       "  </thead>\n",
       "  <tbody>\n",
       "    <tr>\n",
       "      <th>0</th>\n",
       "      <td>0.262057</td>\n",
       "      <td>0.213815</td>\n",
       "      <td>Still Into You</td>\n",
       "      <td>4</td>\n",
       "    </tr>\n",
       "    <tr>\n",
       "      <th>1</th>\n",
       "      <td>0.251278</td>\n",
       "      <td>0.414743</td>\n",
       "      <td>Faded</td>\n",
       "      <td>1</td>\n",
       "    </tr>\n",
       "    <tr>\n",
       "      <th>2</th>\n",
       "      <td>0.731890</td>\n",
       "      <td>0.088016</td>\n",
       "      <td>Sit Next to Me</td>\n",
       "      <td>2</td>\n",
       "    </tr>\n",
       "    <tr>\n",
       "      <th>3</th>\n",
       "      <td>0.035222</td>\n",
       "      <td>0.177863</td>\n",
       "      <td>Kill Your Heroes</td>\n",
       "      <td>6</td>\n",
       "    </tr>\n",
       "    <tr>\n",
       "      <th>4</th>\n",
       "      <td>0.863351</td>\n",
       "      <td>0.341728</td>\n",
       "      <td>Somebody</td>\n",
       "      <td>2</td>\n",
       "    </tr>\n",
       "  </tbody>\n",
       "</table>\n",
       "</div>"
      ],
      "text/plain": [
       "   principal component 1  principal component 2              name  \\\n",
       "0               0.262057               0.213815    Still Into You   \n",
       "1               0.251278               0.414743             Faded   \n",
       "2               0.731890               0.088016    Sit Next to Me   \n",
       "3               0.035222               0.177863  Kill Your Heroes   \n",
       "4               0.863351               0.341728          Somebody   \n",
       "\n",
       "   cluster_label  \n",
       "0              4  \n",
       "1              1  \n",
       "2              2  \n",
       "3              6  \n",
       "4              2  "
      ]
     },
     "execution_count": 23,
     "metadata": {},
     "output_type": "execute_result"
    }
   ],
   "source": [
    "df.head()"
   ]
  },
  {
   "cell_type": "code",
   "execution_count": 24,
   "metadata": {
    "collapsed": false
   },
   "outputs": [],
   "source": [
    "colors = []\n",
    "for i, row in df.iterrows():\n",
    "    colors.append((row['principal component 1'], row['principal component 2'], 1))"
   ]
  },
  {
   "cell_type": "code",
   "execution_count": 25,
   "metadata": {
    "collapsed": false
   },
   "outputs": [],
   "source": [
    "from scipy.spatial import Voronoi, voronoi_plot_2d"
   ]
  },
  {
   "cell_type": "code",
   "execution_count": 26,
   "metadata": {
    "collapsed": false
   },
   "outputs": [],
   "source": [
    "points = []\n",
    "for i, row in df.iterrows():\n",
    "    points.append([row['principal component 1'], row['principal component 2']])"
   ]
  },
  {
   "cell_type": "code",
   "execution_count": 27,
   "metadata": {
    "collapsed": true
   },
   "outputs": [],
   "source": [
    "vor = Voronoi(points)"
   ]
  },
  {
   "cell_type": "code",
   "execution_count": 28,
   "metadata": {
    "collapsed": false
   },
   "outputs": [],
   "source": [
    "for i in range(len(colors)):\n",
    "    R = int(255 * colors[i][0])\n",
    "    G = int(255 * colors[i][1])\n",
    "    B = int(255 * colors[i][2])\n",
    "    colors[i] = '#%02x%02x%02x' % (R, G, B)\n",
    "    i += 1"
   ]
  },
  {
   "cell_type": "code",
   "execution_count": 189,
   "metadata": {
    "collapsed": false
   },
   "outputs": [
    {
     "name": "stdout",
     "output_type": "stream",
     "text": [
      "['#4236ff', '#4069ff', '#ba16ff', '#082dff', '#dc57ff', '#1887ff', '#5167ff', '#2552ff', '#ffa8ff', '#6890ff', '#ed0bff', '#56beff', '#0633ff', '#1a48ff', '#154cff', '#155bff', '#5877ff', '#c752ff', '#8ebdff', '#9090ff', '#124cff', '#2a32ff', '#6566ff', '#1940ff', '#753aff', '#4bc2ff', '#1a70ff', '#ca2aff', '#e32fff', '#0c5aff', '#d221ff', '#1744ff', '#b75cff', '#1b42ff', '#65c9ff', '#60c5ff', '#78ccff', '#514aff', '#6cdeff', '#6542ff', '#4380ff', '#7e86ff', '#235eff', '#1c50ff', '#6aa7ff', '#ac2bff', '#6669ff', '#4258ff', '#4d7fff', '#4e4bff', '#ec86ff', '#1c2aff', '#ed8cff', '#077aff', '#db14ff', '#234dff', '#4a84ff', '#1451ff', '#b600ff', '#0040ff', '#ec9fff', '#3c53ff', '#2848ff', '#198eff', '#19c5ff', '#1941ff', '#222fff', '#165dff', '#1f38ff', '#5391ff', '#43cbff', '#db30ff', '#3347ff', '#4290ff', '#0e22ff', '#1844ff', '#4966ff', '#c20cff', '#48e3ff', '#18a3ff', '#0c46ff', '#1c42ff', '#1111ff', '#186bff', '#4f52ff', '#6b7fff', '#2694ff', '#1661ff', '#d434ff', '#2a30ff', '#635cff', '#ee7dff', '#3033ff', '#0dc9ff', '#423bff', '#87feff', '#2232ff', '#3448ff', '#2fabff']\n"
     ]
    }
   ],
   "source": [
    "print(colors)"
   ]
  },
  {
   "cell_type": "code",
   "execution_count": 42,
   "metadata": {
    "collapsed": false
   },
   "outputs": [
    {
     "data": {
      "image/png": "[encoded data removed]",
      "text/plain": [
       "<Figure size 576x576 with 1 Axes>"
      ]
     },
     "metadata": {},
     "output_type": "display_data"
    }
   ],
   "source": [
    "import numpy as np\n",
    "import matplotlib.pyplot as plt\n",
    "from scipy.spatial import Voronoi\n",
    "\n",
    "def voronoi_finite_polygons_2d(vor, radius=None):\n",
    "\n",
    "    if vor.points.shape[1] != 2:\n",
    "        raise ValueError(\"Requires 2D input\")\n",
    "\n",
    "    new_regions = []\n",
    "    new_vertices = vor.vertices.tolist()\n",
    "\n",
    "    center = vor.points.mean(axis=0)\n",
    "    if radius is None:\n",
    "        radius = vor.points.ptp().max()\n",
    "\n",
    "    # Construct a map containing all ridges for a given point\n",
    "    all_ridges = {}\n",
    "    for (p1, p2), (v1, v2) in zip(vor.ridge_points, vor.ridge_vertices):\n",
    "        all_ridges.setdefault(p1, []).append((p2, v1, v2))\n",
    "        all_ridges.setdefault(p2, []).append((p1, v1, v2))\n",
    "\n",
    "    # Reconstruct infinite regions\n",
    "    for p1, region in enumerate(vor.point_region):\n",
    "        vertices = vor.regions[region]\n",
    "\n",
    "        if all(v >= 0 for v in vertices):\n",
    "            # finite region\n",
    "            new_regions.append(vertices)\n",
    "            continue\n",
    "\n",
    "        # reconstruct a non-finite region\n",
    "        ridges = all_ridges[p1]\n",
    "        new_region = [v for v in vertices if v >= 0]\n",
    "\n",
    "        for p2, v1, v2 in ridges:\n",
    "            if v2 < 0:\n",
    "                v1, v2 = v2, v1\n",
    "            if v1 >= 0:\n",
    "                # finite ridge: already in the region\n",
    "                continue\n",
    "\n",
    "            # Compute the missing endpoint of an infinite ridge\n",
    "\n",
    "            t = vor.points[p2] - vor.points[p1] # tangent\n",
    "            t /= np.linalg.norm(t)\n",
    "            n = np.array([-t[1], t[0]])  # normal\n",
    "\n",
    "            midpoint = vor.points[[p1, p2]].mean(axis=0)\n",
    "            direction = np.sign(np.dot(midpoint - center, n)) * n\n",
    "            far_point = vor.vertices[v2] + direction * radius\n",
    "\n",
    "            new_region.append(len(new_vertices))\n",
    "            new_vertices.append(far_point.tolist())\n",
    "\n",
    "        # sort region counterclockwise\n",
    "        vs = np.asarray([new_vertices[v] for v in new_region])\n",
    "        c = vs.mean(axis=0)\n",
    "        angles = np.arctan2(vs[:,1] - c[1], vs[:,0] - c[0])\n",
    "        new_region = np.array(new_region)[np.argsort(angles)]\n",
    "\n",
    "        # finish\n",
    "        new_regions.append(new_region.tolist())\n",
    "\n",
    "    return new_regions, np.asarray(new_vertices)\n",
    "\n",
    "# compute Voronoi tesselation\n",
    "vor = Voronoi(points)\n",
    "\n",
    "# plot\n",
    "regions, vertices = voronoi_finite_polygons_2d(vor)\n",
    "\n",
    "fig = plt.figure(figsize = (8,8))\n",
    "ax = fig.add_subplot(1,1,1) \n",
    "\n",
    "# colorize\n",
    "i=0\n",
    "for region in regions:\n",
    "    polygon = vertices[region]\n",
    "    plt.fill(*zip(*polygon), colors[i], alpha=0.4)\n",
    "    i+=1\n",
    "\n",
    "for i in range(99):\n",
    "    plt.text(vor.points[i][0], vor.points[i][1], clusters[i])\n",
    "    \n",
    "plt.xlim(vor.min_bound[0] - 0.1, vor.max_bound[0] + 0.1)\n",
    "plt.ylim(vor.min_bound[1] - 0.1, vor.max_bound[1] + 0.1)\n",
    "\n",
    "plt.show()\n"
   ]
  },
  {
   "cell_type": "code",
   "execution_count": 43,
   "metadata": {
    "collapsed": true
   },
   "outputs": [],
   "source": [
    "c0 = []\n",
    "c1 = []\n",
    "c2 = []\n",
    "c3 = []\n",
    "c4 = []\n",
    "c5 = []\n",
    "c6 = []\n",
    "c7 = []\n",
    "for i, row in df.iterrows():\n",
    "    if row[3] == 0:\n",
    "        c0.append(row[2])\n",
    "    elif row[3] == 1:\n",
    "        c1.append(row[2])\n",
    "    elif row[3] == 2:\n",
    "        c2.append(row[2])\n",
    "    elif row[3] == 3:\n",
    "        c3.append(row[2])\n",
    "    elif row[3] == 4:\n",
    "        c4.append(row[2])\n",
    "    elif row[3] == 5:\n",
    "        c5.append(row[2])\n",
    "    elif row[3] == 6:\n",
    "        c6.append(row[2])\n",
    "    elif row[3] == 7:\n",
    "        c7.append(row[2])"
   ]
  },
  {
   "cell_type": "code",
   "execution_count": 44,
   "metadata": {
    "collapsed": false
   },
   "outputs": [
    {
     "name": "stdout",
     "output_type": "stream",
     "text": [
      "['Pray For Me (with Kendrick Lamar)', 'Wild Heart', 'Synesthesia', 'Your Heart Is An Empty Room', 'Alaska', 'Unsteady', 'Cocaine Jesus', 'Him & I (with Halsey)', \"Rubik's Cube\", \"Let's Talk About Spaceships\", 'Deliverance', 'Sad Song (feat. Elena Coats)', 'First Light', 'Medicine']\n"
     ]
    }
   ],
   "source": [
    "print(c0)"
   ]
  },
  {
   "cell_type": "code",
   "execution_count": 45,
   "metadata": {
    "collapsed": false
   },
   "outputs": [
    {
     "name": "stdout",
     "output_type": "stream",
     "text": [
      "['Faded', 'Lately', 'Deadwater', \"Don't Wanna Know\", 'I Need My Girl', 'Sweater Weather', 'Maurine', 'Stolen Dance', 'Creature Comfort', 'Handyman', 'Perfect', 'I Spend Too Much Time in My Room', 'Fly Away With Me', 'Sometime Around Midnight', \"When I'm Small\"]\n"
     ]
    }
   ],
   "source": [
    "print(c1)"
   ]
  },
  {
   "cell_type": "code",
   "execution_count": 46,
   "metadata": {
    "collapsed": false
   },
   "outputs": [
    {
     "name": "stdout",
     "output_type": "stream",
     "text": [
      "['Sit Next to Me', 'Somebody', 'Girls/Girls/Boys', 'About You', 'Riverman', 'Mercy', 'Naive', 'Disarm', 'Thank God For Girls', 'I Write Sins Not Tragedies', 'Stressed Out', 'Dead Century', 'All Of The People', 'back again']\n"
     ]
    }
   ],
   "source": [
    "print(c2)"
   ]
  },
  {
   "cell_type": "code",
   "execution_count": 47,
   "metadata": {
    "collapsed": false
   },
   "outputs": [
    {
     "name": "stdout",
     "output_type": "stream",
     "text": [
      "['Atlas Hands', 'Heart Skipped A Beat', 'Lessons in Miscommunication Pt II', 'White Lie', 'Skin - Acoustic Version', 'Nobody Else Will Be There', 'Smoke Signals', 'Praying', 'Ms', 'From Gold', 'Madeline']\n"
     ]
    }
   ],
   "source": [
    "print(c3)"
   ]
  },
  {
   "cell_type": "code",
   "execution_count": 48,
   "metadata": {
    "collapsed": false
   },
   "outputs": [
    {
     "name": "stdout",
     "output_type": "stream",
     "text": [
      "['Still Into You', 'Infinite High', 'Trojans', 'Dead Oaks', \"Tonight You're Perfect\", 'The Gold', 'Leave a Light On', 'broken', 'Drugs & Candy', 'Handlebars', 'Georgia']\n"
     ]
    }
   ],
   "source": [
    "print(c4)"
   ]
  },
  {
   "cell_type": "code",
   "execution_count": 49,
   "metadata": {
    "collapsed": false
   },
   "outputs": [
    {
     "name": "stdout",
     "output_type": "stream",
     "text": [
      "['Crystalised', 'Nicest Thing', 'Night Time', 'Intro', 'Youth feat. Khalid']\n"
     ]
    }
   ],
   "source": [
    "print(c5)"
   ]
  },
  {
   "cell_type": "code",
   "execution_count": 50,
   "metadata": {
    "collapsed": false
   },
   "outputs": [
    {
     "name": "stdout",
     "output_type": "stream",
     "text": [
      "['Kill Your Heroes', 'Synthesizers', 'Believe', 'Superheroes', \"I'm Just A Kid\", 'Contagious', 'Colors', 'Repeat', 'Dig Down', 'Tongue Tied', 'All For You', 'Super America', 'Turn Off This Song and Go Outside', 'Fire Escape', 'Josie', 'Mind-Reader', 'Stardust', 'Kamikaze', 'My Paper Heart', 'Young Presidents', 'Cecilia And The Satellite', 'Hang Me Up To Dry']\n"
     ]
    }
   ],
   "source": [
    "print(c6)"
   ]
  },
  {
   "cell_type": "code",
   "execution_count": 51,
   "metadata": {
    "collapsed": false
   },
   "outputs": [
    {
     "name": "stdout",
     "output_type": "stream",
     "text": [
      "['Sunny December', 'Be Everything', 'Killer', 'Youth', 'I Dare You', 'Appointments', 'Dead Hearts']\n"
     ]
    }
   ],
   "source": [
    "print(c7)"
   ]
  },
  {
   "cell_type": "code",
   "execution_count": null,
   "metadata": {
    "collapsed": true
   },
   "outputs": [],
   "source": []
  }
 ],
 "metadata": {
  "anaconda-cloud": {},
  "kernelspec": {
   "display_name": "Python [py36]",
   "language": "python",
   "name": "Python [py36]"
  },
  "language_info": {
   "codemirror_mode": {
    "name": "ipython",
    "version": 3
   },
   "file_extension": ".py",
   "mimetype": "text/x-python",
   "name": "python",
   "nbconvert_exporter": "python",
   "pygments_lexer": "ipython3",
   "version": "3.6.5"
  }
 },
 "nbformat": 4,
 "nbformat_minor": 0
}
